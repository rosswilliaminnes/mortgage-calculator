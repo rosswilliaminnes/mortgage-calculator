{
 "cells": [
  {
   "cell_type": "code",
   "execution_count": 1,
   "id": "3f985c45-0c16-4a96-a3dd-05f1c9e7cbc8",
   "metadata": {},
   "outputs": [],
   "source": [
    "import numpy as np\n",
    "import pandas as pd\n",
    "import matplotlib.pyplot as plt"
   ]
  },
  {
   "cell_type": "code",
   "execution_count": 18,
   "id": "7ecfdd31-3229-4c4b-b073-bbc67d4ccee4",
   "metadata": {},
   "outputs": [],
   "source": [
    "# basic calculator \n",
    "\n",
    "def basic_calc(loan,interest,term):\n",
    "    \n",
    "    '''loan is the mortgage, intetest is the % rate eg 3.3% which must be divided by 100\n",
    "        the term is the number of years the mortgage is over\n",
    "        \n",
    "        note: the output of this formula was tested against leading uk results and matched using \n",
    "        the same input data'''\n",
    "    \n",
    "    r = (interest/100)/12 \n",
    "    p = loan\n",
    "    n = term*12\n",
    "\n",
    "    result = p*((r*np.power(1+r,n))/(np.power(1+r,n)-1))\n",
    "\n",
    "    return result"
   ]
  },
  {
   "cell_type": "code",
   "execution_count": 19,
   "id": "4b8e16b1-29f1-4884-82bd-3020a9acd687",
   "metadata": {},
   "outputs": [
    {
     "data": {
      "text/plain": [
       "1714.8654830497117"
      ]
     },
     "execution_count": 19,
     "metadata": {},
     "output_type": "execute_result"
    }
   ],
   "source": [
    "basic_calc(350000,3.3,25)"
   ]
  },
  {
   "cell_type": "code",
   "execution_count": 13,
   "id": "cc3854f5-8c22-4ade-be78-636ff83c184a",
   "metadata": {},
   "outputs": [
    {
     "name": "stdout",
     "output_type": "stream",
     "text": [
      "514459.6449149135 164459.64491491352\n"
     ]
    }
   ],
   "source": [
    "# calculate how much interest\n",
    "\n",
    "# total payments inc interest\n",
    "total_payments = 25*12*basic_calc(350000,3.3,25)\n",
    "loan = 350000\n",
    "interest_paid = total_payments - loan\n",
    "print(total_payments, interest_paid)"
   ]
  },
  {
   "cell_type": "code",
   "execution_count": 20,
   "id": "47328231-3a79-46cf-af52-d71e4f48feec",
   "metadata": {},
   "outputs": [],
   "source": [
    "monthly_repayments = basic_calc(350000,3.3,25)"
   ]
  },
  {
   "cell_type": "code",
   "execution_count": 21,
   "id": "e86fcbff-bd96-42d9-bcb9-770823888730",
   "metadata": {},
   "outputs": [],
   "source": [
    "def basic_calc_interest(loan,monthly_payment,term):\n",
    "    total_payments = term*12*monthly_payment\n",
    "    interest_paid = total_payments - loan\n",
    "    return interest_paid"
   ]
  },
  {
   "cell_type": "code",
   "execution_count": 23,
   "id": "e8947454-ab4d-4953-98da-5fdf60f9bfcf",
   "metadata": {},
   "outputs": [
    {
     "data": {
      "text/plain": [
       "164459.64491491352"
      ]
     },
     "execution_count": 23,
     "metadata": {},
     "output_type": "execute_result"
    }
   ],
   "source": [
    "basic_calc_interest(350000,monthly_repayments,25)"
   ]
  },
  {
   "cell_type": "code",
   "execution_count": 40,
   "id": "87ef3001-ed18-44bf-b42f-2d154c10dea0",
   "metadata": {},
   "outputs": [],
   "source": [
    "def mortgage_calcuator(loan,interest,term,repayment=True):\n",
    "    \n",
    "    '''output matches moneysaving expert'''\n",
    "    \n",
    "    if repayment == True:\n",
    "        \n",
    "        monthly_repayments = basic_calc(loan,interest,term)\n",
    "        total_interest = basic_calc_interest(loan,monthly_repayments,term)\n",
    "        return [monthly_repayments,total_interest]\n",
    "    \n",
    "    else:\n",
    "        \n",
    "        annual_interest = (interest/100)*loan\n",
    "        monthly_interest = annual_interest/12\n",
    "        total_interest = term*12*monthly_interest\n",
    "        \n",
    "        return [monthly_interest,total_interest]"
   ]
  },
  {
   "cell_type": "code",
   "execution_count": 41,
   "id": "7e6d2b66-7e91-4a47-acf9-04b33a48197c",
   "metadata": {},
   "outputs": [
    {
     "data": {
      "text/plain": [
       "[1714.8654830497117, 164459.64491491352]"
      ]
     },
     "execution_count": 41,
     "metadata": {},
     "output_type": "execute_result"
    }
   ],
   "source": [
    "mortgage_calcuator(350000,3.3,25)"
   ]
  },
  {
   "cell_type": "code",
   "execution_count": 42,
   "id": "213034bd-f5d3-44c1-8a82-bad095daa5ec",
   "metadata": {},
   "outputs": [
    {
     "data": {
      "text/plain": [
       "[962.5, 288750.0]"
      ]
     },
     "execution_count": 42,
     "metadata": {},
     "output_type": "execute_result"
    }
   ],
   "source": [
    "mortgage_calcuator(350000,3.3,25,repayment=False)"
   ]
  },
  {
   "cell_type": "code",
   "execution_count": 92,
   "id": "9a68d396-4a2c-4882-a977-5cca5c14a50b",
   "metadata": {},
   "outputs": [],
   "source": [
    "# fixed monthly payment\n",
    "a = basic_calc(350000,3.3,25)"
   ]
  },
  {
   "cell_type": "code",
   "execution_count": 93,
   "id": "c824c1ea-94d5-46e7-bae8-1415cb7155dc",
   "metadata": {},
   "outputs": [
    {
     "data": {
      "text/plain": [
       "1714.8654830497117"
      ]
     },
     "execution_count": 93,
     "metadata": {},
     "output_type": "execute_result"
    }
   ],
   "source": [
    "a"
   ]
  },
  {
   "cell_type": "code",
   "execution_count": 112,
   "id": "4400c386-6a4c-4f8b-9781-13c0661c2240",
   "metadata": {},
   "outputs": [],
   "source": [
    "# monthly interest rate ratio\n",
    "r = 1 + (0.033/12)\n",
    "i = 24 # first month = 1\n",
    "p = 350000 # principal loan"
   ]
  },
  {
   "cell_type": "code",
   "execution_count": 113,
   "id": "57cf87c5-e294-4e00-859f-1717696dff69",
   "metadata": {},
   "outputs": [
    {
     "name": "stdout",
     "output_type": "stream",
     "text": [
      "1.00275 24 350000\n"
     ]
    }
   ],
   "source": [
    "print(r,i,p)"
   ]
  },
  {
   "cell_type": "code",
   "execution_count": 114,
   "id": "f52cdf7d-a8cd-4c3a-8296-8a808c936dab",
   "metadata": {},
   "outputs": [
    {
     "data": {
      "text/plain": [
       "350962.5"
      ]
     },
     "execution_count": 114,
     "metadata": {},
     "output_type": "execute_result"
    }
   ],
   "source": [
    "# note the 962.5 from above\n",
    "# interest only\n",
    "p*r"
   ]
  },
  {
   "cell_type": "code",
   "execution_count": 115,
   "id": "11f35260-c5b1-4a27-900a-70fabf9bb814",
   "metadata": {},
   "outputs": [
    {
     "data": {
      "text/plain": [
       "-331360.49881453067"
      ]
     },
     "execution_count": 115,
     "metadata": {},
     "output_type": "execute_result"
    }
   ],
   "source": [
    "(a*(1-r**i))/(1-r)-(p*(r**i))"
   ]
  },
  {
   "cell_type": "code",
   "execution_count": 89,
   "id": "4aa5f5a9-1267-4afd-ab9a-9afa671e78d6",
   "metadata": {},
   "outputs": [
    {
     "data": {
      "text/plain": [
       "500169.09922283253"
      ]
     },
     "execution_count": 89,
     "metadata": {},
     "output_type": "execute_result"
    }
   ],
   "source": [
    "a"
   ]
  },
  {
   "cell_type": "code",
   "execution_count": 127,
   "id": "3c1b2bf5-d33b-4be1-929b-12d5c05552d8",
   "metadata": {},
   "outputs": [],
   "source": [
    "def loan_remaining(interest,month_i,loan,term):\n",
    "    \n",
    "    a = basic_calc(loan,interest,term)\n",
    "    r = 1 + ((interest/100)/12)\n",
    "    i = month_i\n",
    "    p = loan\n",
    "    \n",
    "    output = -1*((a*(1-r**i))/(1-r)-(p*(r**i)))\n",
    "    \n",
    "    return output"
   ]
  },
  {
   "cell_type": "code",
   "execution_count": 131,
   "id": "f02bf82c-0d1d-492c-90d5-124c9170e981",
   "metadata": {},
   "outputs": [
    {
     "data": {
      "text/plain": [
       "340833.800340778"
      ]
     },
     "execution_count": 131,
     "metadata": {},
     "output_type": "execute_result"
    }
   ],
   "source": [
    "loan_remaining(3.3,12,350000,25)"
   ]
  },
  {
   "cell_type": "code",
   "execution_count": 171,
   "id": "9f3a1552-0280-4591-9606-66d156511189",
   "metadata": {},
   "outputs": [],
   "source": [
    "term = 25\n",
    "\n",
    "monthly_outstanding = []\n",
    "periods = []\n",
    "\n",
    "for i in range(term*12+1):\n",
    "    periods.append(i)\n",
    "    monthly_outstanding.append(round(loan_remaining(3.3,i,350000,25),2))"
   ]
  },
  {
   "cell_type": "code",
   "execution_count": 172,
   "id": "0d9790bc-4514-45a3-b626-fd2b25643c59",
   "metadata": {},
   "outputs": [],
   "source": [
    "df = pd.DataFrame()\n",
    "df['periods'] = periods\n",
    "df['outstanding balance'] = monthly_outstanding"
   ]
  },
  {
   "cell_type": "code",
   "execution_count": 173,
   "id": "22982866-144b-4d0a-955f-e7f7e71f64de",
   "metadata": {},
   "outputs": [
    {
     "data": {
      "text/html": [
       "<div>\n",
       "<style scoped>\n",
       "    .dataframe tbody tr th:only-of-type {\n",
       "        vertical-align: middle;\n",
       "    }\n",
       "\n",
       "    .dataframe tbody tr th {\n",
       "        vertical-align: top;\n",
       "    }\n",
       "\n",
       "    .dataframe thead th {\n",
       "        text-align: right;\n",
       "    }\n",
       "</style>\n",
       "<table border=\"1\" class=\"dataframe\">\n",
       "  <thead>\n",
       "    <tr style=\"text-align: right;\">\n",
       "      <th></th>\n",
       "      <th>periods</th>\n",
       "      <th>outstanding balance</th>\n",
       "    </tr>\n",
       "  </thead>\n",
       "  <tbody>\n",
       "    <tr>\n",
       "      <th>0</th>\n",
       "      <td>0</td>\n",
       "      <td>350000.00</td>\n",
       "    </tr>\n",
       "    <tr>\n",
       "      <th>1</th>\n",
       "      <td>1</td>\n",
       "      <td>349247.63</td>\n",
       "    </tr>\n",
       "    <tr>\n",
       "      <th>2</th>\n",
       "      <td>2</td>\n",
       "      <td>348493.20</td>\n",
       "    </tr>\n",
       "    <tr>\n",
       "      <th>3</th>\n",
       "      <td>3</td>\n",
       "      <td>347736.69</td>\n",
       "    </tr>\n",
       "    <tr>\n",
       "      <th>4</th>\n",
       "      <td>4</td>\n",
       "      <td>346978.10</td>\n",
       "    </tr>\n",
       "    <tr>\n",
       "      <th>...</th>\n",
       "      <td>...</td>\n",
       "      <td>...</td>\n",
       "    </tr>\n",
       "    <tr>\n",
       "      <th>296</th>\n",
       "      <td>296</td>\n",
       "      <td>6812.56</td>\n",
       "    </tr>\n",
       "    <tr>\n",
       "      <th>297</th>\n",
       "      <td>297</td>\n",
       "      <td>5116.43</td>\n",
       "    </tr>\n",
       "    <tr>\n",
       "      <th>298</th>\n",
       "      <td>298</td>\n",
       "      <td>3415.64</td>\n",
       "    </tr>\n",
       "    <tr>\n",
       "      <th>299</th>\n",
       "      <td>299</td>\n",
       "      <td>1710.16</td>\n",
       "    </tr>\n",
       "    <tr>\n",
       "      <th>300</th>\n",
       "      <td>300</td>\n",
       "      <td>0.00</td>\n",
       "    </tr>\n",
       "  </tbody>\n",
       "</table>\n",
       "<p>301 rows × 2 columns</p>\n",
       "</div>"
      ],
      "text/plain": [
       "     periods  outstanding balance\n",
       "0          0            350000.00\n",
       "1          1            349247.63\n",
       "2          2            348493.20\n",
       "3          3            347736.69\n",
       "4          4            346978.10\n",
       "..       ...                  ...\n",
       "296      296              6812.56\n",
       "297      297              5116.43\n",
       "298      298              3415.64\n",
       "299      299              1710.16\n",
       "300      300                 0.00\n",
       "\n",
       "[301 rows x 2 columns]"
      ]
     },
     "execution_count": 173,
     "metadata": {},
     "output_type": "execute_result"
    }
   ],
   "source": [
    "df"
   ]
  },
  {
   "cell_type": "code",
   "execution_count": null,
   "id": "6b0f11d2-f3cf-4db5-b653-2dfbe032ed34",
   "metadata": {},
   "outputs": [],
   "source": []
  },
  {
   "cell_type": "code",
   "execution_count": null,
   "id": "4bd14614-8ac2-426a-bd9e-43785ac82df7",
   "metadata": {},
   "outputs": [],
   "source": []
  },
  {
   "cell_type": "code",
   "execution_count": null,
   "id": "470dac75-8340-44dd-8aaf-e412d00ae422",
   "metadata": {},
   "outputs": [],
   "source": []
  },
  {
   "cell_type": "code",
   "execution_count": null,
   "id": "62317594-5a5f-4d06-bcc6-4a5060b9c89c",
   "metadata": {},
   "outputs": [],
   "source": []
  }
 ],
 "metadata": {
  "kernelspec": {
   "display_name": "Python 3 (ipykernel)",
   "language": "python",
   "name": "python3"
  },
  "language_info": {
   "codemirror_mode": {
    "name": "ipython",
    "version": 3
   },
   "file_extension": ".py",
   "mimetype": "text/x-python",
   "name": "python",
   "nbconvert_exporter": "python",
   "pygments_lexer": "ipython3",
   "version": "3.9.12"
  }
 },
 "nbformat": 4,
 "nbformat_minor": 5
}

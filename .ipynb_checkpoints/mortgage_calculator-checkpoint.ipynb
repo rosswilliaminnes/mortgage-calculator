{
 "cells": [
  {
   "cell_type": "code",
   "execution_count": 1,
   "id": "3f985c45-0c16-4a96-a3dd-05f1c9e7cbc8",
   "metadata": {},
   "outputs": [],
   "source": [
    "import numpy as np\n",
    "import pandas as pd\n",
    "import matplotlib.pyplot as plt"
   ]
  },
  {
   "cell_type": "code",
   "execution_count": 18,
   "id": "7ecfdd31-3229-4c4b-b073-bbc67d4ccee4",
   "metadata": {},
   "outputs": [],
   "source": [
    "# basic calculator \n",
    "\n",
    "def basic_calc(loan,interest,term):\n",
    "    \n",
    "    '''loan is the mortgage, intetest is the % rate eg 3.3% which must be divided by 100\n",
    "        the term is the number of years the mortgage is over\n",
    "        \n",
    "        note: the output of this formula was tested against leading uk results and matched using \n",
    "        the same input data'''\n",
    "    \n",
    "    r = (interest/100)/12 \n",
    "    p = loan\n",
    "    n = term*12\n",
    "\n",
    "    result = p*((r*np.power(1+r,n))/(np.power(1+r,n)-1))\n",
    "\n",
    "    return result"
   ]
  },
  {
   "cell_type": "code",
   "execution_count": 19,
   "id": "4b8e16b1-29f1-4884-82bd-3020a9acd687",
   "metadata": {},
   "outputs": [
    {
     "data": {
      "text/plain": [
       "1714.8654830497117"
      ]
     },
     "execution_count": 19,
     "metadata": {},
     "output_type": "execute_result"
    }
   ],
   "source": [
    "basic_calc(350000,3.3,25)"
   ]
  },
  {
   "cell_type": "code",
   "execution_count": 13,
   "id": "cc3854f5-8c22-4ade-be78-636ff83c184a",
   "metadata": {},
   "outputs": [
    {
     "name": "stdout",
     "output_type": "stream",
     "text": [
      "514459.6449149135 164459.64491491352\n"
     ]
    }
   ],
   "source": [
    "# calculate how much interest\n",
    "\n",
    "# total payments inc interest\n",
    "total_payments = 25*12*basic_calc(350000,3.3,25)\n",
    "loan = 350000\n",
    "interest_paid = total_payments - loan\n",
    "print(total_payments, interest_paid)"
   ]
  },
  {
   "cell_type": "code",
   "execution_count": 20,
   "id": "47328231-3a79-46cf-af52-d71e4f48feec",
   "metadata": {},
   "outputs": [],
   "source": [
    "monthly_repayments = basic_calc(350000,3.3,25)"
   ]
  },
  {
   "cell_type": "code",
   "execution_count": 21,
   "id": "e86fcbff-bd96-42d9-bcb9-770823888730",
   "metadata": {},
   "outputs": [],
   "source": [
    "def basic_calc_interest(loan,monthly_payment,term):\n",
    "    total_payments = term*12*monthly_payment\n",
    "    interest_paid = total_payments - loan\n",
    "    return interest_paid"
   ]
  },
  {
   "cell_type": "code",
   "execution_count": 23,
   "id": "e8947454-ab4d-4953-98da-5fdf60f9bfcf",
   "metadata": {},
   "outputs": [
    {
     "data": {
      "text/plain": [
       "164459.64491491352"
      ]
     },
     "execution_count": 23,
     "metadata": {},
     "output_type": "execute_result"
    }
   ],
   "source": [
    "basic_calc_interest(350000,monthly_repayments,25)"
   ]
  },
  {
   "cell_type": "code",
   "execution_count": 40,
   "id": "87ef3001-ed18-44bf-b42f-2d154c10dea0",
   "metadata": {},
   "outputs": [],
   "source": [
    "def mortgage_calcuator(loan,interest,term,repayment=True):\n",
    "    \n",
    "    if repayment == True:\n",
    "        \n",
    "        monthly_repayments = basic_calc(loan,interest,term)\n",
    "        total_interest = basic_calc_interest(loan,monthly_repayments,term)\n",
    "        return [monthly_repayments,total_interest]\n",
    "    \n",
    "    else:\n",
    "        \n",
    "        annual_interest = (interest/100)*loan\n",
    "        monthly_interest = annual_interest/12\n",
    "        total_interest = term*12*monthly_interest\n",
    "        \n",
    "        return [monthly_interest,total_interest]"
   ]
  },
  {
   "cell_type": "code",
   "execution_count": 41,
   "id": "7e6d2b66-7e91-4a47-acf9-04b33a48197c",
   "metadata": {},
   "outputs": [
    {
     "data": {
      "text/plain": [
       "[1714.8654830497117, 164459.64491491352]"
      ]
     },
     "execution_count": 41,
     "metadata": {},
     "output_type": "execute_result"
    }
   ],
   "source": [
    "mortgage_calcuator(350000,3.3,25)"
   ]
  },
  {
   "cell_type": "code",
   "execution_count": 42,
   "id": "213034bd-f5d3-44c1-8a82-bad095daa5ec",
   "metadata": {},
   "outputs": [
    {
     "data": {
      "text/plain": [
       "[962.5, 288750.0]"
      ]
     },
     "execution_count": 42,
     "metadata": {},
     "output_type": "execute_result"
    }
   ],
   "source": [
    "mortgage_calcuator(350000,3.3,25,repayment=False)"
   ]
  },
  {
   "cell_type": "code",
   "execution_count": null,
   "id": "9a68d396-4a2c-4882-a977-5cca5c14a50b",
   "metadata": {},
   "outputs": [],
   "source": []
  }
 ],
 "metadata": {
  "kernelspec": {
   "display_name": "Python 3 (ipykernel)",
   "language": "python",
   "name": "python3"
  },
  "language_info": {
   "codemirror_mode": {
    "name": "ipython",
    "version": 3
   },
   "file_extension": ".py",
   "mimetype": "text/x-python",
   "name": "python",
   "nbconvert_exporter": "python",
   "pygments_lexer": "ipython3",
   "version": "3.9.12"
  }
 },
 "nbformat": 4,
 "nbformat_minor": 5
}
